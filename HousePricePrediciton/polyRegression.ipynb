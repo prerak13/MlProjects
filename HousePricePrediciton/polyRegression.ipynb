{
 "cells": [
  {
   "cell_type": "markdown",
   "metadata": {},
   "source": [
    "# https://towardsdatascience.com/polynomial-regression-bbe8b9d97491"
   ]
  },
  {
   "cell_type": "code",
   "execution_count": 71,
   "metadata": {
    "scrolled": false
   },
   "outputs": [
    {
     "data": {
      "image/png": "[encoded data removed]",
      "text/plain": [
       "<Figure size 432x288 with 1 Axes>"
      ]
     },
     "metadata": {
      "needs_background": "light"
     },
     "output_type": "display_data"
    }
   ],
   "source": [
    "import numpy as np\n",
    "import matplotlib.pyplot as plt\n",
    "\n",
    "np.random.seed(0)\n",
    "x = 2 - 3 * np.random.normal(0, 1, 20)\n",
    "y = x - 2 * (x ** 2) + 0.5 * (x ** 3) + np.random.normal(-3, 3, 20)\n",
    "plt.scatter(x,y, s=10)\n",
    "plt.show()"
   ]
  },
  {
   "cell_type": "code",
   "execution_count": 72,
   "metadata": {},
   "outputs": [],
   "source": [
    "# transforming the data to include another axis\n",
    "x_ = x[:, np.newaxis]\n",
    "y_ = y[:, np.newaxis]\n"
   ]
  },
  {
   "cell_type": "code",
   "execution_count": 73,
   "metadata": {},
   "outputs": [
    {
     "data": {
      "text/plain": [
       "array([-3.29215704,  0.79952837, -0.93621395, -4.7226796 , -3.60267397,\n",
       "        4.93183364, -0.85026525,  2.45407162,  2.30965656,  0.76820449,\n",
       "        1.56786929, -2.36282052, -0.28311318,  1.63497495,  0.6684103 ,\n",
       "        0.99897702, -2.48223722,  2.61547479,  1.0607969 ,  4.56228722])"
      ]
     },
     "execution_count": 73,
     "metadata": {},
     "output_type": "execute_result"
    }
   ],
   "source": [
    "x\n"
   ]
  },
  {
   "cell_type": "code",
   "execution_count": 74,
   "metadata": {},
   "outputs": [
    {
     "data": {
      "text/plain": [
       "array([[-3.29215704],\n",
       "       [ 0.79952837],\n",
       "       [-0.93621395],\n",
       "       [-4.7226796 ],\n",
       "       [-3.60267397],\n",
       "       [ 4.93183364],\n",
       "       [-0.85026525],\n",
       "       [ 2.45407162],\n",
       "       [ 2.30965656],\n",
       "       [ 0.76820449],\n",
       "       [ 1.56786929],\n",
       "       [-2.36282052],\n",
       "       [-0.28311318],\n",
       "       [ 1.63497495],\n",
       "       [ 0.6684103 ],\n",
       "       [ 0.99897702],\n",
       "       [-2.48223722],\n",
       "       [ 2.61547479],\n",
       "       [ 1.0607969 ],\n",
       "       [ 4.56228722]])"
      ]
     },
     "execution_count": 74,
     "metadata": {},
     "output_type": "execute_result"
    }
   ],
   "source": [
    "x_"
   ]
  },
  {
   "cell_type": "code",
   "execution_count": 75,
   "metadata": {},
   "outputs": [],
   "source": [
    "x=x_\n",
    "y=y_"
   ]
  },
  {
   "cell_type": "code",
   "execution_count": 76,
   "metadata": {},
   "outputs": [
    {
     "data": {
      "image/png": "[encoded data removed]",
      "text/plain": [
       "<Figure size 432x288 with 1 Axes>"
      ]
     },
     "metadata": {
      "needs_background": "light"
     },
     "output_type": "display_data"
    }
   ],
   "source": [
    "model = LinearRegression()\n",
    "model.fit(x, y)\n",
    "y_pred = model.predict(x)\n",
    "\n",
    "plt.scatter(x, y, s=10)\n",
    "plt.plot(x, y_pred, color='r')\n",
    "plt.show()"
   ]
  },
  {
   "cell_type": "code",
   "execution_count": 77,
   "metadata": {},
   "outputs": [
    {
     "data": {
      "text/plain": [
       "array([[-3.29215704],\n",
       "       [ 0.79952837],\n",
       "       [-0.93621395],\n",
       "       [-4.7226796 ],\n",
       "       [-3.60267397],\n",
       "       [ 4.93183364],\n",
       "       [-0.85026525],\n",
       "       [ 2.45407162],\n",
       "       [ 2.30965656],\n",
       "       [ 0.76820449],\n",
       "       [ 1.56786929],\n",
       "       [-2.36282052],\n",
       "       [-0.28311318],\n",
       "       [ 1.63497495],\n",
       "       [ 0.6684103 ],\n",
       "       [ 0.99897702],\n",
       "       [-2.48223722],\n",
       "       [ 2.61547479],\n",
       "       [ 1.0607969 ],\n",
       "       [ 4.56228722]])"
      ]
     },
     "execution_count": 77,
     "metadata": {},
     "output_type": "execute_result"
    }
   ],
   "source": [
    "x"
   ]
  },
  {
   "cell_type": "code",
   "execution_count": 78,
   "metadata": {},
   "outputs": [
    {
     "data": {
      "text/plain": [
       "array([[ -53.46841187],\n",
       "       [  -1.26255958],\n",
       "       [  -3.50619264],\n",
       "       [-107.22320039],\n",
       "       [ -49.13195018],\n",
       "       [   8.90122353],\n",
       "       [  -5.46624176],\n",
       "       [  -5.76263165],\n",
       "       [  -0.60058568],\n",
       "       [   1.2226779 ],\n",
       "       [  -3.95663744],\n",
       "       [ -21.98989452],\n",
       "       [  -6.11812275],\n",
       "       [ -10.46843964],\n",
       "       [  -4.11955719],\n",
       "       [  -3.02941914],\n",
       "       [ -21.76152272],\n",
       "       [  -1.51295226],\n",
       "       [  -4.75491157],\n",
       "       [   6.50723268]])"
      ]
     },
     "execution_count": 78,
     "metadata": {},
     "output_type": "execute_result"
    }
   ],
   "source": [
    "y"
   ]
  },
  {
   "cell_type": "code",
   "execution_count": 79,
   "metadata": {},
   "outputs": [],
   "source": [
    "from sklearn.preprocessing import PolynomialFeatures\n",
    "\n",
    "\n",
    "polynomial_features= PolynomialFeatures(degree=2)\n",
    "x_poly = polynomial_features.fit_transform(x)\n"
   ]
  },
  {
   "cell_type": "code",
   "execution_count": 81,
   "metadata": {},
   "outputs": [],
   "source": [
    "model = LinearRegression()\n",
    "model.fit(x_poly, y)\n",
    "\n",
    "y_poly_pred = model.predict(x_poly)\n"
   ]
  },
  {
   "cell_type": "code",
   "execution_count": 82,
   "metadata": {},
   "outputs": [
    {
     "data": {
      "text/plain": [
       "array([[ 1.        , -3.29215704, 10.83829796],\n",
       "       [ 1.        ,  0.79952837,  0.63924562],\n",
       "       [ 1.        , -0.93621395,  0.87649656],\n",
       "       [ 1.        , -4.7226796 , 22.30370258],\n",
       "       [ 1.        , -3.60267397, 12.97925974],\n",
       "       [ 1.        ,  4.93183364, 24.32298305],\n",
       "       [ 1.        , -0.85026525,  0.722951  ],\n",
       "       [ 1.        ,  2.45407162,  6.02246754],\n",
       "       [ 1.        ,  2.30965656,  5.3345134 ],\n",
       "       [ 1.        ,  0.76820449,  0.59013814],\n",
       "       [ 1.        ,  1.56786929,  2.4582141 ],\n",
       "       [ 1.        , -2.36282052,  5.58292081],\n",
       "       [ 1.        , -0.28311318,  0.08015307],\n",
       "       [ 1.        ,  1.63497495,  2.67314309],\n",
       "       [ 1.        ,  0.6684103 ,  0.44677233],\n",
       "       [ 1.        ,  0.99897702,  0.99795508],\n",
       "       [ 1.        , -2.48223722,  6.16150161],\n",
       "       [ 1.        ,  2.61547479,  6.84070838],\n",
       "       [ 1.        ,  1.0607969 ,  1.12529005],\n",
       "       [ 1.        ,  4.56228722, 20.81446466]])"
      ]
     },
     "execution_count": 82,
     "metadata": {},
     "output_type": "execute_result"
    }
   ],
   "source": [
    "x_poly"
   ]
  },
  {
   "cell_type": "code",
   "execution_count": 83,
   "metadata": {},
   "outputs": [
    {
     "name": "stdout",
     "output_type": "stream",
     "text": [
      "10.120437473614711\n",
      "0.8537647164420812\n"
     ]
    }
   ],
   "source": [
    "rmse = np.sqrt(mean_squared_error(y,y_poly_pred))\n",
    "r2 = r2_score(y,y_poly_pred)\n",
    "print(rmse)\n",
    "print(r2)"
   ]
  },
  {
   "cell_type": "code",
   "execution_count": 84,
   "metadata": {},
   "outputs": [
    {
     "data": {
      "image/png": "[encoded data removed]",
      "text/plain": [
       "<Figure size 432x288 with 1 Axes>"
      ]
     },
     "metadata": {
      "needs_background": "light"
     },
     "output_type": "display_data"
    }
   ],
   "source": [
    "plt.scatter(x, y, s=10)\n",
    "# sort the values of x before line plot\n",
    "sort_axis = operator.itemgetter(0)\n",
    "sorted_zip = sorted(zip(x,y_poly_pred), key=sort_axis)\n",
    "x, y_poly_pred = zip(*sorted_zip)\n",
    "plt.plot(x, y_poly_pred, color='m')\n",
    "plt.show()"
   ]
  }
 ],
 "metadata": {
  "kernelspec": {
   "display_name": "Python 3",
   "language": "python",
   "name": "python3"
  },
  "language_info": {
   "codemirror_mode": {
    "name": "ipython",
    "version": 3
   },
   "file_extension": ".py",
   "mimetype": "text/x-python",
   "name": "python",
   "nbconvert_exporter": "python",
   "pygments_lexer": "ipython3",
   "version": "3.7.4"
  }
 },
 "nbformat": 4,
 "nbformat_minor": 2
}
