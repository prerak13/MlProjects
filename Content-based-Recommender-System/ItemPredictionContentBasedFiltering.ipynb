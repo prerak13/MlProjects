{
 "cells": [
  {
   "cell_type": "code",
   "execution_count": 3,
   "metadata": {},
   "outputs": [],
   "source": [
    "import pandas as pd\n",
    "from sklearn.feature_extraction.text import TfidfVectorizer\n",
    "from sklearn.metrics.pairwise import linear_kernel "
   ]
  },
  {
   "cell_type": "code",
   "execution_count": 4,
   "metadata": {},
   "outputs": [
    {
     "data": {
      "text/html": [
       "<div>\n",
       "<style scoped>\n",
       "    .dataframe tbody tr th:only-of-type {\n",
       "        vertical-align: middle;\n",
       "    }\n",
       "\n",
       "    .dataframe tbody tr th {\n",
       "        vertical-align: top;\n",
       "    }\n",
       "\n",
       "    .dataframe thead th {\n",
       "        text-align: right;\n",
       "    }\n",
       "</style>\n",
       "<table border=\"1\" class=\"dataframe\">\n",
       "  <thead>\n",
       "    <tr style=\"text-align: right;\">\n",
       "      <th></th>\n",
       "      <th>id</th>\n",
       "      <th>description</th>\n",
       "    </tr>\n",
       "  </thead>\n",
       "  <tbody>\n",
       "    <tr>\n",
       "      <td>0</td>\n",
       "      <td>1</td>\n",
       "      <td>Active classic boxers - There's a reason why o...</td>\n",
       "    </tr>\n",
       "    <tr>\n",
       "      <td>1</td>\n",
       "      <td>2</td>\n",
       "      <td>Active sport boxer briefs - Skinning up Glory ...</td>\n",
       "    </tr>\n",
       "    <tr>\n",
       "      <td>2</td>\n",
       "      <td>3</td>\n",
       "      <td>Active sport briefs - These superbreathable no...</td>\n",
       "    </tr>\n",
       "    <tr>\n",
       "      <td>3</td>\n",
       "      <td>4</td>\n",
       "      <td>Alpine guide pants - Skin in, climb ice, switc...</td>\n",
       "    </tr>\n",
       "    <tr>\n",
       "      <td>4</td>\n",
       "      <td>5</td>\n",
       "      <td>Alpine wind jkt - On high ridges, steep ice an...</td>\n",
       "    </tr>\n",
       "  </tbody>\n",
       "</table>\n",
       "</div>"
      ],
      "text/plain": [
       "   id                                        description\n",
       "0   1  Active classic boxers - There's a reason why o...\n",
       "1   2  Active sport boxer briefs - Skinning up Glory ...\n",
       "2   3  Active sport briefs - These superbreathable no...\n",
       "3   4  Alpine guide pants - Skin in, climb ice, switc...\n",
       "4   5  Alpine wind jkt - On high ridges, steep ice an..."
      ]
     },
     "execution_count": 4,
     "metadata": {},
     "output_type": "execute_result"
    }
   ],
   "source": [
    "sample_data = pd.read_csv(\"./sample-data.csv\")\n",
    "sample_data.head()"
   ]
  },
  {
   "cell_type": "code",
   "execution_count": 5,
   "metadata": {},
   "outputs": [],
   "source": [
    "tfvectorizer = TfidfVectorizer(analyzer='word', ngram_range=(1, 3), min_df=0, stop_words='english')\n",
    "tfidf_matrix = tfvectorizer.fit_transform(sample_data['description'])"
   ]
  },
  {
   "cell_type": "code",
   "execution_count": 6,
   "metadata": {},
   "outputs": [
    {
     "name": "stdout",
     "output_type": "stream",
     "text": [
      "     000  000 feet  000 feet chasm  000 feet form  000 miles  \\\n",
      "0    0.0       0.0             0.0            0.0        0.0   \n",
      "1    0.0       0.0             0.0            0.0        0.0   \n",
      "2    0.0       0.0             0.0            0.0        0.0   \n",
      "3    0.0       0.0             0.0            0.0        0.0   \n",
      "4    0.0       0.0             0.0            0.0        0.0   \n",
      "..   ...       ...             ...            ...        ...   \n",
      "495  0.0       0.0             0.0            0.0        0.0   \n",
      "496  0.0       0.0             0.0            0.0        0.0   \n",
      "497  0.0       0.0             0.0            0.0        0.0   \n",
      "498  0.0       0.0             0.0            0.0        0.0   \n",
      "499  0.0       0.0             0.0            0.0        0.0   \n",
      "\n",
      "     000 miles annual   03  03 oz  03 oz br        10  ...  zones high  \\\n",
      "0                 0.0  0.0    0.0       0.0  0.000000  ...         0.0   \n",
      "1                 0.0  0.0    0.0       0.0  0.000000  ...         0.0   \n",
      "2                 0.0  0.0    0.0       0.0  0.000000  ...         0.0   \n",
      "3                 0.0  0.0    0.0       0.0  0.000000  ...         0.0   \n",
      "4                 0.0  0.0    0.0       0.0  0.023087  ...         0.0   \n",
      "..                ...  ...    ...       ...       ...  ...         ...   \n",
      "495               0.0  0.0    0.0       0.0  0.000000  ...         0.0   \n",
      "496               0.0  0.0    0.0       0.0  0.000000  ...         0.0   \n",
      "497               0.0  0.0    0.0       0.0  0.000000  ...         0.0   \n",
      "498               0.0  0.0    0.0       0.0  0.000000  ...         0.0   \n",
      "499               0.0  0.0    0.0       0.0  0.000000  ...         0.0   \n",
      "\n",
      "     zones high filtration  zones highly  zones highly abrasion  \\\n",
      "0                      0.0           0.0                    0.0   \n",
      "1                      0.0           0.0                    0.0   \n",
      "2                      0.0           0.0                    0.0   \n",
      "3                      0.0           0.0                    0.0   \n",
      "4                      0.0           0.0                    0.0   \n",
      "..                     ...           ...                    ...   \n",
      "495                    0.0           0.0                    0.0   \n",
      "496                    0.0           0.0                    0.0   \n",
      "497                    0.0           0.0                    0.0   \n",
      "498                    0.0           0.0                    0.0   \n",
      "499                    0.0           0.0                    0.0   \n",
      "\n",
      "     zones improved  zones improved flexibility  zones li  zones li li  \\\n",
      "0               0.0                         0.0       0.0          0.0   \n",
      "1               0.0                         0.0       0.0          0.0   \n",
      "2               0.0                         0.0       0.0          0.0   \n",
      "3               0.0                         0.0       0.0          0.0   \n",
      "4               0.0                         0.0       0.0          0.0   \n",
      "..              ...                         ...       ...          ...   \n",
      "495             0.0                         0.0       0.0          0.0   \n",
      "496             0.0                         0.0       0.0          0.0   \n",
      "497             0.0                         0.0       0.0          0.0   \n",
      "498             0.0                         0.0       0.0          0.0   \n",
      "499             0.0                         0.0       0.0          0.0   \n",
      "\n",
      "     zones toe  zones toe comfort  \n",
      "0          0.0                0.0  \n",
      "1          0.0                0.0  \n",
      "2          0.0                0.0  \n",
      "3          0.0                0.0  \n",
      "4          0.0                0.0  \n",
      "..         ...                ...  \n",
      "495        0.0                0.0  \n",
      "496        0.0                0.0  \n",
      "497        0.0                0.0  \n",
      "498        0.0                0.0  \n",
      "499        0.0                0.0  \n",
      "\n",
      "[500 rows x 52262 columns]\n"
     ]
    }
   ],
   "source": [
    "df = pd.DataFrame(tfidf_matrix.toarray(), columns = tfvectorizer.get_feature_names())\n",
    "print(df)"
   ]
  },
  {
   "cell_type": "code",
   "execution_count": 16,
   "metadata": {},
   "outputs": [
    {
     "data": {
      "text/plain": [
       "52262"
      ]
     },
     "execution_count": 16,
     "metadata": {},
     "output_type": "execute_result"
    }
   ],
   "source": [
    "len(tfvectorizer.get_feature_names())"
   ]
  },
  {
   "cell_type": "code",
   "execution_count": 10,
   "metadata": {},
   "outputs": [
    {
     "data": {
      "text/plain": [
       "<1x52262 sparse matrix of type '<class 'numpy.float64'>'\n",
       "\twith 244 stored elements in Compressed Sparse Row format>"
      ]
     },
     "execution_count": 10,
     "metadata": {},
     "output_type": "execute_result"
    }
   ],
   "source": [
    "tfidf_matrix[0]"
   ]
  },
  {
   "cell_type": "code",
   "execution_count": 7,
   "metadata": {},
   "outputs": [],
   "source": [
    "cosine_similarities = linear_kernel(tfidf_matrix, tfidf_matrix) \n",
    "results = {}\n",
    "for idx, row in sample_data.iterrows():\n",
    "   similar_indices = cosine_similarities[idx].argsort()[:-100:-1] \n",
    "   similar_items = [(cosine_similarities[idx][i], sample_data['id'][i]) for i in similar_indices] \n",
    "   results[row['id']] = similar_items[1:]"
   ]
  },
  {
   "cell_type": "code",
   "execution_count": 8,
   "metadata": {},
   "outputs": [],
   "source": [
    "def item(id):  \n",
    "  return sample_data.loc[sample_data['id'] == id]['description'].tolist()[0].split(' - ')[0] \n",
    "# Just reads the results out of the dictionary.def \n",
    "def recommend(item_id, num):\n",
    "    print(\"Recommending \" + str(num) + \" products similar to \" + item(item_id) + \"...\")   \n",
    "    print(\"-------\")    \n",
    "    recs = results[item_id][:num]   \n",
    "    for rec in recs: \n",
    "       print(\"Recommended: \" + item(rec[1]) + \" (score:\" +      str(rec[0]) + \")\")"
   ]
  },
  {
   "cell_type": "code",
   "execution_count": 9,
   "metadata": {},
   "outputs": [
    {
     "name": "stdout",
     "output_type": "stream",
     "text": [
      "Recommending 5 products similar to Baby sunshade top...\n",
      "-------\n",
      "Recommended: Sunshade hoody (score:0.21330296021085024)\n",
      "Recommended: Baby baggies apron dress (score:0.10975311296284812)\n",
      "Recommended: Runshade t-shirt (score:0.09988151262780731)\n",
      "Recommended: Runshade t-shirt (score:0.09530698241688207)\n",
      "Recommended: Runshade top (score:0.08510550093018411)\n"
     ]
    }
   ],
   "source": [
    "recommend(item_id=11, num=5)"
   ]
  },
  {
   "cell_type": "code",
   "execution_count": 17,
   "metadata": {},
   "outputs": [
    {
     "data": {
      "text/plain": [
       "array([[1.        , 0.10110642, 0.06487353, ..., 0.06097409, 0.06546914,\n",
       "        0.06955608],\n",
       "       [0.10110642, 1.        , 0.4181664 , ..., 0.03550042, 0.06936414,\n",
       "        0.06480538],\n",
       "       [0.06487353, 0.4181664 , 1.        , ..., 0.03402428, 0.0455137 ,\n",
       "        0.05038512],\n",
       "       ...,\n",
       "       [0.06097409, 0.03550042, 0.03402428, ..., 1.        , 0.04187121,\n",
       "        0.04958298],\n",
       "       [0.06546914, 0.06936414, 0.0455137 , ..., 0.04187121, 1.        ,\n",
       "        0.36281626],\n",
       "       [0.06955608, 0.06480538, 0.05038512, ..., 0.04958298, 0.36281626,\n",
       "        1.        ]])"
      ]
     },
     "execution_count": 17,
     "metadata": {},
     "output_type": "execute_result"
    }
   ],
   "source": [
    "cosine_similarities"
   ]
  },
  {
   "cell_type": "code",
   "execution_count": null,
   "metadata": {},
   "outputs": [],
   "source": []
  },
  {
   "cell_type": "code",
   "execution_count": null,
   "metadata": {},
   "outputs": [],
   "source": []
  },
  {
   "cell_type": "code",
   "execution_count": null,
   "metadata": {},
   "outputs": [],
   "source": []
  }
 ],
 "metadata": {
  "kernelspec": {
   "display_name": "Python 3",
   "language": "python",
   "name": "python3"
  },
  "language_info": {
   "codemirror_mode": {
    "name": "ipython",
    "version": 3
   },
   "file_extension": ".py",
   "mimetype": "text/x-python",
   "name": "python",
   "nbconvert_exporter": "python",
   "pygments_lexer": "ipython3",
   "version": "3.7.4"
  }
 },
 "nbformat": 4,
 "nbformat_minor": 2
}
